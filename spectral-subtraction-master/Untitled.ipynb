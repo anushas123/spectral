{
 "cells": [
  {
   "cell_type": "code",
   "execution_count": 36,
   "metadata": {
    "scrolled": true
   },
   "outputs": [
    {
     "name": "stdout",
     "output_type": "stream",
     "text": [
      "load wav noisy_speech.wav\n",
      "load wav noise_short.wav\n",
      "write wav output_short.wav\n"
     ]
    }
   ],
   "source": [
    "# coding: utf-8\n",
    "\n",
    "# spectral subtraction: one of noise reduction method\n",
    "#                       This is a simple python script, is not advanced one.\n",
    "#\n",
    "# Usage:\n",
    "#    specify wav file names below,\n",
    "#       infile: input wav file including noise\n",
    "#       outfile: output wav file\n",
    "#       noisefile: noise only wav file, that is some (noise only) portion of input wav edited by manual (ex: Audacity)\n",
    "# \n",
    "#     then, python3 ss1.py\n",
    "\n",
    "# Check version:\n",
    "# \n",
    "#  Python 3.6.4 win32 64bit\n",
    "#  Windows 10, 64bit\n",
    "#  numpy (1.14.0)\n",
    "#  scipy (1.0.0)\n",
    "#  librosa (0.6.0)\n",
    "\n",
    "import numpy as np\n",
    "import scipy.io.wavfile\n",
    "import librosa\n",
    "import sounddevice as sd\n",
    "import soundfile as sf\n",
    "import matplotlib.pyplot as plot\n",
    "\n",
    "import warnings\n",
    "warnings.simplefilter(\"ignore\", DeprecationWarning)\n",
    "\n",
    "\n",
    "# edit following wav file name\n",
    "infile='noisy_speech.wav'\n",
    "\n",
    "#data, fs = sf.read(infile, dtype='float32')  \n",
    "#sd.play(data, fs)\n",
    "#status = sd.wait()  # Wait until file is done playing\n",
    "\n",
    "outfile='output_short.wav'\n",
    "\n",
    "\n",
    "noisefile='noise_short.wav'\n",
    "\n",
    "\n",
    "# load input file, and stft (Short-time Fourier transform)\n",
    "print ('load wav', infile)\n",
    "w, sr = librosa.load( infile, sr=None, mono=True) # keep native sr (sampling rate) and trans into mono\n",
    "s= librosa.stft(w)    # Short-time Fourier transform\n",
    "ss= np.abs(s)         # get magnitude\n",
    "angle= np.angle(s)    # get phase\n",
    "b=np.exp(1.0j* angle) # use this phase information when Inverse Transform\n",
    "\n",
    "# load noise only file, stft, and get mean\n",
    "print ('load wav', noisefile)\n",
    "nw, nsr = librosa.load( noisefile, sr=None, mono=True)\n",
    "ns= librosa.stft(nw) \n",
    "nss= np.abs(ns)\n",
    "mns= np.mean(nss, axis=1) # get mean\n",
    "\n",
    "# subtract noise spectral mean from input spectral, and istft (Inverse Short-Time Fourier Transform)\n",
    "sa= ss - mns.reshape((mns.shape[0],1))  # reshape for broadcast to subtract\n",
    "sa0= sa * b  # apply phase information\n",
    "y= librosa.istft(sa0) # back to time domain signal\n",
    "\n",
    "# save as a wav file\n",
    "scipy.io.wavfile.write(outfile, sr, (y * 32768).astype(np.int16)) # save signed 16-bit WAV format\n",
    "#librosa.output.write_wav(outfile, y , sr)  # save 32-bit floating-point WAV format, due to y is float \n",
    "sf.write(outfile, y, sr, 'PCM_24')\n",
    "print ('write wav', outfile)\n",
    "#data, fs = sf.read(outfile, dtype='float32')  \n",
    "#sd.play(data, fs)\n",
    "#status = sd.wait()  # Wait until file is done playing\n",
    "\n",
    " \n",
    "\n"
   ]
  },
  {
   "cell_type": "code",
   "execution_count": 40,
   "metadata": {},
   "outputs": [],
   "source": [
    "import math\n",
    "[f, fs] = librosa.load('clean.wav');\n",
    "[f2, fs2] = librosa.load(outfile);\n",
    "top = 1/len(f)*(sum(f**2))\n",
    "bottom = 1/len(f2)*(sum(f2**2))\n",
    "SDR = 10*math.log10(top/bottom)"
   ]
  },
  {
   "cell_type": "code",
   "execution_count": 41,
   "metadata": {},
   "outputs": [
    {
     "data": {
      "text/plain": [
       "-7.8347802038556305"
      ]
     },
     "execution_count": 41,
     "metadata": {},
     "output_type": "execute_result"
    }
   ],
   "source": [
    "SDR"
   ]
  },
  {
   "cell_type": "code",
   "execution_count": 42,
   "metadata": {},
   "outputs": [],
   "source": [
    "import math\n",
    "[f, fs] = librosa.load('clean.wav');\n",
    "[f2, fs2] = librosa.load(noisefile);\n",
    "top = 1/len(f)*(sum(f**2))\n",
    "bottom = 1/len(f2)*(sum(f2**2))\n",
    "SIR = 10*math.log10(top/bottom)"
   ]
  },
  {
   "cell_type": "code",
   "execution_count": 43,
   "metadata": {},
   "outputs": [
    {
     "data": {
      "text/plain": [
       "-11.042306742147757"
      ]
     },
     "execution_count": 43,
     "metadata": {},
     "output_type": "execute_result"
    }
   ],
   "source": [
    "SIR"
   ]
  },
  {
   "cell_type": "code",
   "execution_count": null,
   "metadata": {},
   "outputs": [],
   "source": []
  }
 ],
 "metadata": {
  "kernelspec": {
   "display_name": "Python 3",
   "language": "python",
   "name": "python3"
  },
  "language_info": {
   "codemirror_mode": {
    "name": "ipython",
    "version": 3
   },
   "file_extension": ".py",
   "mimetype": "text/x-python",
   "name": "python",
   "nbconvert_exporter": "python",
   "pygments_lexer": "ipython3",
   "version": "3.8.5"
  }
 },
 "nbformat": 4,
 "nbformat_minor": 4
}
